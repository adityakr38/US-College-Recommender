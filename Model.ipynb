{
 "cells": [
  {
   "cell_type": "code",
   "execution_count": 77,
   "metadata": {},
   "outputs": [
    {
     "name": "stdout",
     "output_type": "stream",
     "text": [
      "Total rows fetched: 5000\n"
     ]
    }
   ],
   "source": [
    "import requests\n",
    "import pandas as pd\n",
    "\n",
    "API_KEY = 'R9UPFmY5MUYOj3vq1gBg62698NdO0SzL94jlOWBa'\n",
    "BASE_URL = 'https://api.data.gov/ed/collegescorecard/v1/schools.json'\n",
    "\n",
    "# Define parameters for API request with more fields added incrementally\n",
    "params = {\n",
    "    'api_key': API_KEY,\n",
    "    'fields': 'id,school.name,school.city,school.state,latest.admissions.admission_rate.overall,latest.cost.tuition.in_state,latest.cost.tuition.out_of_state,latest.student.size,latest.admissions.sat_scores.average.overall,latest.admissions.act_scores.average.cumulative,latest.earnings.10_yrs_after_entry.median,latest.completion.rate_suppressed.overall,latest.aid.pell_grant_rate,latest.student.demographics.gender.men,latest.student.demographics.gender.women',\n",
    "    'per_page': 100,\n",
    "    'page': 0\n",
    "}\n",
    "\n",
    "all_data = []\n",
    "\n",
    "# Loop through multiple pages\n",
    "for page in range(0, 50):  \n",
    "    params['page'] = page\n",
    "    response = requests.get(BASE_URL, params=params)\n",
    "    \n",
    "    if response.status_code == 200:\n",
    "        data = response.json()\n",
    "        results = data['results']\n",
    "        all_data.extend(results) \n",
    "    else:\n",
    "        print(f\"Error on page {page}: {response.status_code}\")\n",
    "        break\n",
    "\n",
    "\n",
    "df = pd.DataFrame(all_data)\n",
    "print(f\"Total rows fetched: {len(df)}\")\n",
    "df.to_csv('college_data.csv', index=False)\n",
    "df.to_csv('college_data_new.csv', index=False)\n"
   ]
  },
  {
   "cell_type": "code",
   "execution_count": 78,
   "metadata": {},
   "outputs": [
    {
     "data": {
      "text/html": [
       "<div>\n",
       "<style scoped>\n",
       "    .dataframe tbody tr th:only-of-type {\n",
       "        vertical-align: middle;\n",
       "    }\n",
       "\n",
       "    .dataframe tbody tr th {\n",
       "        vertical-align: top;\n",
       "    }\n",
       "\n",
       "    .dataframe thead th {\n",
       "        text-align: right;\n",
       "    }\n",
       "</style>\n",
       "<table border=\"1\" class=\"dataframe\">\n",
       "  <thead>\n",
       "    <tr style=\"text-align: right;\">\n",
       "      <th></th>\n",
       "      <th>latest.admissions.admission_rate.overall</th>\n",
       "      <th>latest.cost.tuition.in_state</th>\n",
       "      <th>latest.cost.tuition.out_of_state</th>\n",
       "      <th>latest.student.size</th>\n",
       "      <th>latest.admissions.sat_scores.average.overall</th>\n",
       "      <th>latest.earnings.10_yrs_after_entry.median</th>\n",
       "      <th>latest.completion.rate_suppressed.overall</th>\n",
       "      <th>latest.aid.pell_grant_rate</th>\n",
       "      <th>school.name</th>\n",
       "      <th>school.city</th>\n",
       "      <th>school.state</th>\n",
       "      <th>id</th>\n",
       "    </tr>\n",
       "  </thead>\n",
       "  <tbody>\n",
       "    <tr>\n",
       "      <th>3576</th>\n",
       "      <td>0.9821</td>\n",
       "      <td>5818</td>\n",
       "      <td>5818</td>\n",
       "      <td>290</td>\n",
       "      <td>NaN</td>\n",
       "      <td>24908</td>\n",
       "      <td>0.383</td>\n",
       "      <td>0.7812</td>\n",
       "      <td>Pontifical Catholic University of Puerto Rico-...</td>\n",
       "      <td>Arecibo</td>\n",
       "      <td>PR</td>\n",
       "      <td>241395</td>\n",
       "    </tr>\n",
       "  </tbody>\n",
       "</table>\n",
       "</div>"
      ],
      "text/plain": [
       "      latest.admissions.admission_rate.overall  latest.cost.tuition.in_state  \\\n",
       "3576                                    0.9821                          5818   \n",
       "\n",
       "      latest.cost.tuition.out_of_state  latest.student.size  \\\n",
       "3576                              5818                  290   \n",
       "\n",
       "      latest.admissions.sat_scores.average.overall  \\\n",
       "3576                                           NaN   \n",
       "\n",
       "      latest.earnings.10_yrs_after_entry.median  \\\n",
       "3576                                      24908   \n",
       "\n",
       "      latest.completion.rate_suppressed.overall  latest.aid.pell_grant_rate  \\\n",
       "3576                                      0.383                      0.7812   \n",
       "\n",
       "                                            school.name school.city  \\\n",
       "3576  Pontifical Catholic University of Puerto Rico-...     Arecibo   \n",
       "\n",
       "     school.state      id  \n",
       "3576           PR  241395  "
      ]
     },
     "execution_count": 78,
     "metadata": {},
     "output_type": "execute_result"
    }
   ],
   "source": [
    "import pandas as pd\n",
    "import requests\n",
    "df = pd.read_csv('/Users/adityakumar/US.College_Analysis/college_data_new.csv')\n",
    "df.sample(1)"
   ]
  },
  {
   "cell_type": "code",
   "execution_count": 79,
   "metadata": {},
   "outputs": [],
   "source": [
    "# Rename specific columns using .rename()\n",
    "df = df.rename(columns={\n",
    "    'school.name': 'College_Name',\n",
    "    'school.city': 'City',\n",
    "    'school.state': 'State',\n",
    "    'latest.admissions.admission_rate.overall': 'Admission_Rate',\n",
    "    'latest.cost.tuition.in_state': 'In-State_Tuition',\n",
    "    'latest.cost.tuition.out_of_state': 'Out-of-State_Tuition',\n",
    "    'latest.student.size': 'Student_Size',\n",
    "    'latest.admissions.sat_scores.average.overall': 'Average_SAT_Score',\n",
    "    'latest.earnings.10_yrs_after_entry.median': 'Median_Earnings_10_Years_After',\n",
    "    'latest.completion.rate_suppressed.overall': 'Completion_Rate',\n",
    "    'latest.aid.pell_grant_rate': 'Pell_Grant_Rate',\n",
    "})\n",
    "\n",
    "df.to_csv('college_data.csv', index=False)\n"
   ]
  },
  {
   "cell_type": "code",
   "execution_count": 80,
   "metadata": {},
   "outputs": [
    {
     "name": "stderr",
     "output_type": "stream",
     "text": [
      "Summarize dataset: 100%|██████████| 103/103 [00:07<00:00, 13.68it/s, Completed]                                                            \n",
      "Generate report structure: 100%|██████████| 1/1 [00:04<00:00,  4.25s/it]\n",
      "Render HTML: 100%|██████████| 1/1 [00:01<00:00,  1.33s/it]\n",
      "Export report to file: 100%|██████████| 1/1 [00:00<00:00, 67.22it/s]\n"
     ]
    },
    {
     "data": {
      "text/html": [
       "<a href='US_College.html' target='_blank'>US_College.html</a><br>"
      ],
      "text/plain": [
       "/Users/adityakumar/US.College_Analysis/US_College.html"
      ]
     },
     "execution_count": 80,
     "metadata": {},
     "output_type": "execute_result"
    }
   ],
   "source": [
    "import ydata_profiling as yp\n",
    "from ydata_profiling import ProfileReport\n",
    "\n",
    "profile = ProfileReport(df, title =\"US College\")\n",
    "profile.to_file(\"US_College.html\")\n",
    "\n",
    "from IPython.display import FileLink\n",
    "FileLink(\"US_College.html\")"
   ]
  },
  {
   "cell_type": "markdown",
   "metadata": {},
   "source": [
    "Dropping NAN rows"
   ]
  },
  {
   "cell_type": "code",
   "execution_count": 81,
   "metadata": {},
   "outputs": [],
   "source": [
    "new_df = df.dropna()\n",
    "new_df.shape\n",
    "df = new_df"
   ]
  },
  {
   "cell_type": "code",
   "execution_count": 82,
   "metadata": {},
   "outputs": [
    {
     "name": "stderr",
     "output_type": "stream",
     "text": [
      "/var/folders/tf/nb2206b133550_hpm_b_xr_40000gn/T/ipykernel_30278/824456240.py:1: SettingWithCopyWarning: \n",
      "A value is trying to be set on a copy of a slice from a DataFrame\n",
      "\n",
      "See the caveats in the documentation: https://pandas.pydata.org/pandas-docs/stable/user_guide/indexing.html#returning-a-view-versus-a-copy\n",
      "  df.drop(columns=['City', 'State', 'id'], inplace= True)\n"
     ]
    }
   ],
   "source": [
    "df.drop(columns=['City', 'State', 'id'], inplace= True)"
   ]
  },
  {
   "cell_type": "code",
   "execution_count": 83,
   "metadata": {},
   "outputs": [
    {
     "name": "stderr",
     "output_type": "stream",
     "text": [
      "Summarize dataset: 100%|██████████| 82/82 [00:06<00:00, 12.53it/s, Completed]                                                             \n",
      "Generate report structure: 100%|██████████| 1/1 [00:02<00:00,  2.96s/it]\n",
      "Render HTML: 100%|██████████| 1/1 [00:01<00:00,  1.07s/it]\n",
      "Export report to file: 100%|██████████| 1/1 [00:00<00:00, 137.63it/s]\n"
     ]
    },
    {
     "data": {
      "text/html": [
       "<a href='US_College_01.html' target='_blank'>US_College_01.html</a><br>"
      ],
      "text/plain": [
       "/Users/adityakumar/US.College_Analysis/US_College_01.html"
      ]
     },
     "execution_count": 83,
     "metadata": {},
     "output_type": "execute_result"
    }
   ],
   "source": [
    "import ydata_profiling as yp\n",
    "from ydata_profiling import ProfileReport\n",
    "\n",
    "profile = ProfileReport(new_df, title =\"US College\")\n",
    "profile.to_file(\"US_College_01.html\")\n",
    "\n",
    "from IPython.display import FileLink\n",
    "FileLink(\"US_College_01.html\")"
   ]
  },
  {
   "cell_type": "markdown",
   "metadata": {},
   "source": [
    "outlier detection and treatment"
   ]
  },
  {
   "cell_type": "code",
   "execution_count": 84,
   "metadata": {},
   "outputs": [
    {
     "name": "stdout",
     "output_type": "stream",
     "text": [
      "Percentage of outliers in Admission_Rate: 5.83%\n",
      "Percentage of outliers in Average_SAT_Score: 3.01%\n",
      "Percentage of outliers in Median_Earnings_10_Years_After: 5.27%\n",
      "Percentage of outliers in Pell_Grant_Rate: 2.35%\n",
      "Percentage of outliers in Student_Size: 11.01%\n",
      "New DataFrame shape after trimming Student_Size: (946, 9)\n"
     ]
    }
   ],
   "source": [
    "#skewed cols are  ['Admission_Rate', 'Student_Size', 'Average_SAT_Score', 'Median_Earnings_10_Years_After', 'Pell_Grant_Rate']\n",
    "\n",
    "cols_to_cap = ['Admission_Rate', 'Average_SAT_Score', 'Median_Earnings_10_Years_After', 'Pell_Grant_Rate']\n",
    "\n",
    "def cap_outliers(df, col):\n",
    "    Q1 = df[col].quantile(0.25)\n",
    "    Q3 = df[col].quantile(0.75)\n",
    "    IQR = Q3 - Q1\n",
    "    lower_bound = Q1 - 1.5 * IQR\n",
    "    upper_bound = Q3 + 1.5 * IQR\n",
    "\n",
    "    # Calculate the number of outliers\n",
    "    num_outliers = ((df[col] < lower_bound) | (df[col] > upper_bound)).sum()\n",
    "    total_values = len(df[col])\n",
    "    outlier_percentage = (num_outliers / total_values) * 100\n",
    "    print(f\"Percentage of outliers in {col}: {outlier_percentage:.2f}%\")\n",
    "\n",
    "    #Capping\n",
    "    df[col] = df[col].apply(lambda x: upper_bound if x > upper_bound else lower_bound if x < lower_bound else x)\n",
    "\n",
    "def trim_outliers(df, col):\n",
    "    Q1 = df[col].quantile(0.25)\n",
    "    Q3 = df[col].quantile(0.75)\n",
    "    IQR = Q3 - Q1\n",
    "    lower_bound = Q1 - 1.5 * IQR\n",
    "    upper_bound = Q3 + 1.5 * IQR\n",
    "\n",
    "    # Calculate the number of outliers\n",
    "    num_outliers = ((df[col] < lower_bound) | (df[col] > upper_bound)).sum()\n",
    "    total_values = len(df[col])\n",
    "    outlier_percentage = (num_outliers / total_values) * 100\n",
    "    print(f\"Percentage of outliers in {col}: {outlier_percentage:.2f}%\")\n",
    "\n",
    "    #Trimming\n",
    "    trimmed_df = df[(df[col] >= lower_bound) & (df[col] <= upper_bound)]\n",
    "    return trimmed_df\n",
    "\n",
    "for col in cols_to_cap:\n",
    "    cap_outliers(df, col)\n",
    "\n",
    "df_trimmed = trim_outliers(df, 'Student_Size')\n",
    "\n",
    "\n",
    "print(f\"New DataFrame shape after trimming Student_Size: {df_trimmed.shape}\")\n"
   ]
  },
  {
   "cell_type": "code",
   "execution_count": 85,
   "metadata": {},
   "outputs": [
    {
     "name": "stdout",
     "output_type": "stream",
     "text": [
      "Percentage of outliers in In-State_Tuition: 0.00%\n",
      "Percentage of outliers in Out-of-State_Tuition: 0.00%\n",
      "Percentage of outliers in Completion_Rate: 0.00%\n"
     ]
    }
   ],
   "source": [
    "#normally distributed are ['In-State_Tuition','Out-of-State_Tuition','Completion_Rate']\n",
    "from scipy.stats import zscore\n",
    "\n",
    "cols_to_check = ['In-State_Tuition','Out-of-State_Tuition','Completion_Rate']\n",
    "\n",
    "def outliers_detection(df, col, threshold=3):\n",
    "    z_scores = zscore(df[col])\n",
    "\n",
    "    # Calculate the number of outliers\n",
    "    num_outliers = ((z_scores > threshold) | (z_scores < -threshold)).sum()\n",
    "    total_values = len(df[col])\n",
    "    outlier_percentage = (num_outliers / total_values) * 100\n",
    "    print(f\"Percentage of outliers in {col}: {outlier_percentage:.2f}%\")\n",
    "\n",
    "for col in cols_to_check:\n",
    "    outliers_detection(df, col)\n",
    "    "
   ]
  },
  {
   "cell_type": "markdown",
   "metadata": {},
   "source": [
    "Transformation"
   ]
  },
  {
   "cell_type": "code",
   "execution_count": 86,
   "metadata": {},
   "outputs": [
    {
     "name": "stdout",
     "output_type": "stream",
     "text": [
      "Skewness of Average_SAT_Score: 0.5952\n",
      "Skewness of Pell_Grant_Rate: 0.5488\n",
      "Skewness of Admission_Rate: -0.9663\n",
      "Skewness of Student_Size: 2.8794\n",
      "Skewness of Median_Earnings_10_Years_After: 0.5639\n"
     ]
    }
   ],
   "source": [
    "columns_skewness = ['Average_SAT_Score','Pell_Grant_Rate','Admission_Rate', 'Student_Size', 'Median_Earnings_10_Years_After']\n",
    "\n",
    "for col in columns_skewness:\n",
    "    skewness = df[col].skew()\n",
    "    print(f\"Skewness of {col}: {skewness:.4f}\")\n"
   ]
  },
  {
   "cell_type": "markdown",
   "metadata": {},
   "source": [
    "Moderate Skewed: 0.5 - 1.0 -> Applying BoxCox"
   ]
  },
  {
   "cell_type": "code",
   "execution_count": 87,
   "metadata": {},
   "outputs": [
    {
     "name": "stdout",
     "output_type": "stream",
     "text": [
      "Applied Box-Cox transformation on Average_SAT_Score with lambda: -0.9632\n",
      "Applied Box-Cox transformation on Pell_Grant_Rate with lambda: 0.6378\n",
      "Applied Box-Cox transformation on Admission_Rate with lambda: 2.0743\n",
      "Applied Box-Cox transformation on Median_Earnings_10_Years_After with lambda: 0.2646\n"
     ]
    }
   ],
   "source": [
    "from scipy.stats import boxcox\n",
    "import numpy as np\n",
    "\n",
    "columns_to_transform = ['Average_SAT_Score','Pell_Grant_Rate', 'Admission_Rate','Median_Earnings_10_Years_After']\n",
    "\n",
    "lambdas = {}\n",
    "\n",
    "for col in columns_to_transform:\n",
    "    if col == 'Pell_Grant_Rate' or col == 'Median_Earnings_10_Years_After':\n",
    "        df[col] = df[col] + 0.0001\n",
    "    \n",
    "    # Ensure there are no negative values for Box-Cox\n",
    "    if any(df[col] <= 0):\n",
    "        df[col] = df[col] + abs(df[col].min()) + 1\n",
    "    \n",
    "    df[col], fitted_lambda = boxcox(df[col])\n",
    "    lambdas[col] = fitted_lambda \n",
    "    \n",
    "    print(f\"Applied Box-Cox transformation on {col} with lambda: {fitted_lambda:.4f}\")"
   ]
  },
  {
   "cell_type": "markdown",
   "metadata": {},
   "source": [
    "Student Size Highly positive skewed -> Applying Reciprocal Transformation "
   ]
  },
  {
   "cell_type": "code",
   "execution_count": 88,
   "metadata": {},
   "outputs": [],
   "source": [
    "df['Student_Size'] = np.log1p(df['Student_Size'])\n"
   ]
  },
  {
   "cell_type": "code",
   "execution_count": 89,
   "metadata": {},
   "outputs": [
    {
     "name": "stdout",
     "output_type": "stream",
     "text": [
      "Skewness of Average_SAT_Score: 0.0088\n",
      "Skewness of Pell_Grant_Rate: 0.0267\n",
      "Skewness of Admission_Rate: -0.3311\n",
      "Skewness of Student_Size: 0.1779\n",
      "Skewness of Median_Earnings_10_Years_After: 0.0101\n"
     ]
    }
   ],
   "source": [
    "columns_skewness = ['Average_SAT_Score','Pell_Grant_Rate','Admission_Rate', 'Student_Size', 'Median_Earnings_10_Years_After']\n",
    "\n",
    "for col in columns_skewness:\n",
    "    skewness = df[col].skew()\n",
    "    print(f\"Skewness of {col}: {skewness:.4f}\")"
   ]
  },
  {
   "cell_type": "code",
   "execution_count": 90,
   "metadata": {},
   "outputs": [
    {
     "data": {
      "text/plain": [
       "(1063, 9)"
      ]
     },
     "execution_count": 90,
     "metadata": {},
     "output_type": "execute_result"
    }
   ],
   "source": [
    "df.shape"
   ]
  },
  {
   "cell_type": "markdown",
   "metadata": {},
   "source": [
    "Normalizing"
   ]
  },
  {
   "cell_type": "code",
   "execution_count": 91,
   "metadata": {},
   "outputs": [],
   "source": [
    "from sklearn.preprocessing import MinMaxScaler\n",
    "cols_to_normalise = ['Admission_Rate', 'In-State_Tuition','Out-of-State_Tuition', 'Student_Size'\n",
    "                , 'Average_SAT_Score', 'Median_Earnings_10_Years_After','Completion_Rate', 'Pell_Grant_Rate']\n",
    "\n",
    "scaler = MinMaxScaler()\n",
    "df[cols_to_normalise] = scaler.fit_transform(df[cols_to_normalise])\n"
   ]
  },
  {
   "cell_type": "code",
   "execution_count": 92,
   "metadata": {},
   "outputs": [
    {
     "name": "stderr",
     "output_type": "stream",
     "text": [
      "Summarize dataset: 100%|██████████| 82/82 [00:05<00:00, 13.86it/s, Completed]                                                             \n",
      "Generate report structure: 100%|██████████| 1/1 [00:03<00:00,  3.05s/it]\n",
      "Render HTML: 100%|██████████| 1/1 [00:01<00:00,  1.02s/it]\n",
      "Export report to file: 100%|██████████| 1/1 [00:00<00:00, 113.74it/s]\n"
     ]
    },
    {
     "data": {
      "text/html": [
       "<a href='US_College_FE.html' target='_blank'>US_College_FE.html</a><br>"
      ],
      "text/plain": [
       "/Users/adityakumar/US.College_Analysis/US_College_FE.html"
      ]
     },
     "execution_count": 92,
     "metadata": {},
     "output_type": "execute_result"
    }
   ],
   "source": [
    "import ydata_profiling as yp\n",
    "from ydata_profiling import ProfileReport\n",
    "\n",
    "profile = ProfileReport(df, title =\"US College After Feature Engineering\")\n",
    "profile.to_file(\"US_College_FE.html\")\n",
    "\n",
    "from IPython.display import FileLink\n",
    "FileLink(\"US_College_FE.html\")"
   ]
  },
  {
   "cell_type": "code",
   "execution_count": 93,
   "metadata": {},
   "outputs": [
    {
     "data": {
      "text/html": [
       "<div>\n",
       "<style scoped>\n",
       "    .dataframe tbody tr th:only-of-type {\n",
       "        vertical-align: middle;\n",
       "    }\n",
       "\n",
       "    .dataframe tbody tr th {\n",
       "        vertical-align: top;\n",
       "    }\n",
       "\n",
       "    .dataframe thead th {\n",
       "        text-align: right;\n",
       "    }\n",
       "</style>\n",
       "<table border=\"1\" class=\"dataframe\">\n",
       "  <thead>\n",
       "    <tr style=\"text-align: right;\">\n",
       "      <th></th>\n",
       "      <th>Admission_Rate</th>\n",
       "      <th>In-State_Tuition</th>\n",
       "      <th>Out-of-State_Tuition</th>\n",
       "      <th>Student_Size</th>\n",
       "      <th>Average_SAT_Score</th>\n",
       "      <th>Median_Earnings_10_Years_After</th>\n",
       "      <th>Completion_Rate</th>\n",
       "      <th>Pell_Grant_Rate</th>\n",
       "      <th>College_Name</th>\n",
       "    </tr>\n",
       "  </thead>\n",
       "  <tbody>\n",
       "    <tr>\n",
       "      <th>1113</th>\n",
       "      <td>0.945546</td>\n",
       "      <td>0.71952</td>\n",
       "      <td>0.71952</td>\n",
       "      <td>0.471203</td>\n",
       "      <td>0.539645</td>\n",
       "      <td>0.602546</td>\n",
       "      <td>0.670638</td>\n",
       "      <td>0.512755</td>\n",
       "      <td>Wartburg College</td>\n",
       "    </tr>\n",
       "  </tbody>\n",
       "</table>\n",
       "</div>"
      ],
      "text/plain": [
       "      Admission_Rate  In-State_Tuition  Out-of-State_Tuition  Student_Size  \\\n",
       "1113        0.945546           0.71952               0.71952      0.471203   \n",
       "\n",
       "      Average_SAT_Score  Median_Earnings_10_Years_After  Completion_Rate  \\\n",
       "1113           0.539645                        0.602546         0.670638   \n",
       "\n",
       "      Pell_Grant_Rate      College_Name  \n",
       "1113         0.512755  Wartburg College  "
      ]
     },
     "execution_count": 93,
     "metadata": {},
     "output_type": "execute_result"
    }
   ],
   "source": [
    "df.sample(1)"
   ]
  },
  {
   "cell_type": "markdown",
   "metadata": {},
   "source": [
    "Weights based on user features"
   ]
  },
  {
   "cell_type": "code",
   "execution_count": 94,
   "metadata": {},
   "outputs": [],
   "source": [
    "weights = {\n",
    "    'Admission_Rate': 0.1,\n",
    "    'In-State_Tuition': 0.2,\n",
    "    'Out-of-State_Tuition': 0.1,\n",
    "    'Student_Size': 0.1,\n",
    "    'Average_SAT_Score': 0.2,\n",
    "    'Median_Earnings_10_Years_After': 0.2,\n",
    "    'Completion_Rate': 0.1,\n",
    "    'Pell_Grant_Rate': 0.05\n",
    "}"
   ]
  },
  {
   "cell_type": "code",
   "execution_count": 95,
   "metadata": {},
   "outputs": [],
   "source": [
    "df['Ranking_Score'] = (\n",
    "    df['Admission_Rate'] * weights['Admission_Rate'] +\n",
    "    df['In-State_Tuition'] * weights['In-State_Tuition'] +\n",
    "    df['Out-of-State_Tuition'] * weights['Out-of-State_Tuition'] +\n",
    "    df['Student_Size'] * weights['Student_Size'] +\n",
    "    df['Average_SAT_Score'] * weights['Average_SAT_Score'] +\n",
    "    df['Median_Earnings_10_Years_After'] * weights['Median_Earnings_10_Years_After'] +\n",
    "    df['Completion_Rate'] * weights['Completion_Rate'] +\n",
    "    df['Pell_Grant_Rate'] * weights['Pell_Grant_Rate']\n",
    ")"
   ]
  },
  {
   "cell_type": "code",
   "execution_count": 96,
   "metadata": {},
   "outputs": [],
   "source": [
    "X = df.drop(columns = ['College_Name', 'Ranking_Score']).values\n",
    "y = df['Ranking_Score'].values\n",
    "College_Name = df['College_Name']"
   ]
  },
  {
   "cell_type": "code",
   "execution_count": 97,
   "metadata": {},
   "outputs": [],
   "source": [
    "from sklearn.model_selection import train_test_split\n",
    "train_data, test_data = train_test_split(df, test_size=0.2, random_state= 42)\n",
    "\n",
    "# Extract X and y for train/test sets\n",
    "X_train = train_data[['Admission_Rate', 'In-State_Tuition', 'Out-of-State_Tuition', 'Student_Size', \n",
    "                      'Average_SAT_Score', 'Median_Earnings_10_Years_After', 'Completion_Rate', 'Pell_Grant_Rate']].values\n",
    "y_train = train_data['Ranking_Score'].values\n",
    "\n",
    "X_test = test_data[['Admission_Rate', 'In-State_Tuition', 'Out-of-State_Tuition', 'Student_Size', \n",
    "                    'Average_SAT_Score', 'Median_Earnings_10_Years_After', 'Completion_Rate', 'Pell_Grant_Rate']].values\n",
    "y_test = test_data['Ranking_Score'].values\n",
    "\n",
    "results= []"
   ]
  },
  {
   "cell_type": "markdown",
   "metadata": {},
   "source": [
    "XGBOOST"
   ]
  },
  {
   "cell_type": "code",
   "execution_count": 98,
   "metadata": {},
   "outputs": [],
   "source": [
    "import xgboost as xgb\n",
    "from sklearn.metrics import mean_squared_error, mean_absolute_error, r2_score, make_scorer\n",
    "import numpy as np\n",
    "\n",
    "dtrain = xgb.DMatrix(X_train, label=y_train)\n",
    "dtest = xgb.DMatrix(X_test, label=y_test)\n",
    "\n",
    "params = {\n",
    "    'objective': 'rank:pairwise',  \n",
    "    'eval_metric': 'ndcg',         \n",
    "    'learning_rate': 0.1,\n",
    "    'max_depth': 5,\n",
    "}\n",
    "\n",
    "rank_model_xgb = xgb.train(params, dtrain, num_boost_round=100)\n",
    "\n",
    "y_pred_xgb = rank_model_xgb.predict(dtest)\n",
    "\n",
    "mse_xgb = mean_squared_error(y_test, y_pred_xgb)\n",
    "mae_xgb = mean_absolute_error(y_test, y_pred_xgb)\n",
    "r2_xgb = r2_score(y_test, y_pred_xgb)\n",
    "\n",
    "\n",
    "results.append({\n",
    "    'Model': 'XGBoost',\n",
    "    'MSE': mse_xgb,\n",
    "    'MAE': mae_xgb,\n",
    "    'R2_Score': r2_xgb\n",
    "})\n"
   ]
  },
  {
   "cell_type": "markdown",
   "metadata": {},
   "source": [
    "GradientBoosting"
   ]
  },
  {
   "cell_type": "code",
   "execution_count": 99,
   "metadata": {},
   "outputs": [],
   "source": [
    "from sklearn.ensemble import GradientBoostingRegressor\n",
    "\n",
    "rank_model_gb = GradientBoostingRegressor(n_estimators=100, learning_rate=0.1, max_depth=5, random_state=42)\n",
    "rank_model_gb.fit(X_train, y_train)\n",
    "y_pred_gb = rank_model_gb.predict(X_test)\n",
    "\n",
    "mse_gb = mean_squared_error(y_test, y_pred_gb)\n",
    "mae_gb = mean_absolute_error(y_test, y_pred_gb)\n",
    "r2_gb = r2_score(y_test, y_pred_gb)\n",
    "\n",
    "\n",
    "results.append({\n",
    "    'Model': 'Gradient Boosting',\n",
    "    'MSE': mse_gb,\n",
    "    'MAE': mae_gb,\n",
    "    'R2_Score': r2_gb\n",
    "})\n",
    "\n",
    "results_df = pd.DataFrame(results)"
   ]
  },
  {
   "cell_type": "markdown",
   "metadata": {},
   "source": [
    "Random Forest"
   ]
  },
  {
   "cell_type": "code",
   "execution_count": 100,
   "metadata": {},
   "outputs": [],
   "source": [
    "from sklearn.ensemble import RandomForestRegressor\n",
    "rank_model_rf = RandomForestRegressor(n_estimators=100, max_depth=5, random_state=42)\n",
    "\n",
    "rank_model_rf.fit(X_train, y_train)\n",
    "y_pred_rf = rank_model_rf.predict(X_test)\n",
    "\n",
    "mse_rf = mean_squared_error(y_test, y_pred_rf)\n",
    "mae_rf = mean_absolute_error(y_test, y_pred_rf)\n",
    "r2_rf = r2_score(y_test, y_pred_rf)\n",
    "\n",
    "# Store the results\n",
    "results.append({\n",
    "    'Model': 'Random Forest',\n",
    "    'MSE': mse_rf,\n",
    "    'MAE': mae_rf,\n",
    "    'R2_Score': r2_rf\n",
    "})"
   ]
  },
  {
   "cell_type": "code",
   "execution_count": 101,
   "metadata": {},
   "outputs": [
    {
     "data": {
      "text/html": [
       "<div>\n",
       "<style scoped>\n",
       "    .dataframe tbody tr th:only-of-type {\n",
       "        vertical-align: middle;\n",
       "    }\n",
       "\n",
       "    .dataframe tbody tr th {\n",
       "        vertical-align: top;\n",
       "    }\n",
       "\n",
       "    .dataframe thead th {\n",
       "        text-align: right;\n",
       "    }\n",
       "</style>\n",
       "<table border=\"1\" class=\"dataframe\">\n",
       "  <thead>\n",
       "    <tr style=\"text-align: right;\">\n",
       "      <th></th>\n",
       "      <th>Model</th>\n",
       "      <th>MSE</th>\n",
       "      <th>MAE</th>\n",
       "      <th>R2_Score</th>\n",
       "    </tr>\n",
       "  </thead>\n",
       "  <tbody>\n",
       "    <tr>\n",
       "      <th>0</th>\n",
       "      <td>XGBoost</td>\n",
       "      <td>17.537856</td>\n",
       "      <td>4.113250</td>\n",
       "      <td>-1001.401889</td>\n",
       "    </tr>\n",
       "    <tr>\n",
       "      <th>1</th>\n",
       "      <td>Gradient Boosting</td>\n",
       "      <td>0.000235</td>\n",
       "      <td>0.010672</td>\n",
       "      <td>0.986550</td>\n",
       "    </tr>\n",
       "    <tr>\n",
       "      <th>2</th>\n",
       "      <td>Random Forest</td>\n",
       "      <td>0.000712</td>\n",
       "      <td>0.020346</td>\n",
       "      <td>0.959278</td>\n",
       "    </tr>\n",
       "  </tbody>\n",
       "</table>\n",
       "</div>"
      ],
      "text/plain": [
       "               Model        MSE       MAE     R2_Score\n",
       "0            XGBoost  17.537856  4.113250 -1001.401889\n",
       "1  Gradient Boosting   0.000235  0.010672     0.986550\n",
       "2      Random Forest   0.000712  0.020346     0.959278"
      ]
     },
     "execution_count": 101,
     "metadata": {},
     "output_type": "execute_result"
    }
   ],
   "source": [
    "results_df = pd.DataFrame(results)\n",
    "results_df"
   ]
  },
  {
   "cell_type": "markdown",
   "metadata": {},
   "source": [
    "5 CV"
   ]
  },
  {
   "cell_type": "code",
   "execution_count": 102,
   "metadata": {},
   "outputs": [
    {
     "name": "stdout",
     "output_type": "stream",
     "text": [
      "Gradient Boosting 5CV R2 scores: [0.9837734  0.98045765 0.96996104 0.9827855  0.97999979]\n",
      "Gradient Boosting 5CV Average R2: 0.9793954737722432\n"
     ]
    }
   ],
   "source": [
    "from sklearn.model_selection import cross_val_score, KFold\n",
    "\n",
    "kf = KFold(n_splits=5, shuffle=True, random_state=42)\n",
    "r2_scorer = make_scorer(r2_score)\n",
    "cv_r2_gb = cross_val_score(rank_model_gb, X_train, y_train, cv=kf, scoring=r2_scorer)\n",
    "\n",
    "print(f\"Gradient Boosting 5CV R2 scores: {cv_r2_gb}\")\n",
    "print(f\"Gradient Boosting 5CV Average R2: {np.mean(cv_r2_gb)}\")"
   ]
  },
  {
   "cell_type": "markdown",
   "metadata": {},
   "source": [
    "Converting back to college name"
   ]
  },
  {
   "cell_type": "code",
   "execution_count": 109,
   "metadata": {},
   "outputs": [],
   "source": [
    "college_names = test_data['College_Name'].values\n",
    "\n",
    "results = pd.DataFrame({\n",
    "    'College_Name': college_names,\n",
    "    'Predicted_Score': y_pred_gb\n",
    "})\n",
    "top_colleges = results.sort_values(by='Predicted_Score', ascending=False)\n"
   ]
  },
  {
   "cell_type": "code",
   "execution_count": 110,
   "metadata": {},
   "outputs": [
    {
     "name": "stdout",
     "output_type": "stream",
     "text": [
      "                              College_Name  Predicted_Score\n",
      "106                  University of Chicago         0.866695\n",
      "50                         Yale University         0.861538\n",
      "191                Northeastern University         0.852272\n",
      "114        Case Western Reserve University         0.844761\n",
      "45   Massachusetts Institute of Technology         0.835870\n",
      "..                                     ...              ...\n",
      "148        Elizabeth City State University         0.327745\n",
      "15                      Randall University         0.322640\n",
      "44                 Alcorn State University         0.298701\n",
      "85     Mississippi Valley State University         0.278681\n",
      "65                  Wilberforce University         0.277762\n",
      "\n",
      "[213 rows x 2 columns]\n"
     ]
    }
   ],
   "source": [
    "print(top_colleges)"
   ]
  },
  {
   "cell_type": "code",
   "execution_count": 111,
   "metadata": {},
   "outputs": [],
   "source": [
    "import pickle\n",
    "\n",
    "with open('model.pkl', 'wb') as f:\n",
    "    pickle.dump(rank_model_gb, f)"
   ]
  },
  {
   "cell_type": "code",
   "execution_count": 112,
   "metadata": {},
   "outputs": [],
   "source": [
    "df.to_csv('college_data_new.csv', index=False)"
   ]
  },
  {
   "cell_type": "code",
   "execution_count": null,
   "metadata": {},
   "outputs": [],
   "source": []
  }
 ],
 "metadata": {
  "kernelspec": {
   "display_name": ".venv",
   "language": "python",
   "name": "python3"
  },
  "language_info": {
   "codemirror_mode": {
    "name": "ipython",
    "version": 3
   },
   "file_extension": ".py",
   "mimetype": "text/x-python",
   "name": "python",
   "nbconvert_exporter": "python",
   "pygments_lexer": "ipython3",
   "version": "3.12.5"
  }
 },
 "nbformat": 4,
 "nbformat_minor": 2
}
